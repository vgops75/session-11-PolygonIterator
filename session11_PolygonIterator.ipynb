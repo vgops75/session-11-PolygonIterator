{
 "cells": [
  {
   "cell_type": "markdown",
   "id": "47672ed0-94c8-4468-b6c6-49ba6444b74f",
   "metadata": {},
   "source": [
    "\n",
    "# Polygons as iterables with 'lazy' attributes and methods\n"
   ]
  },
  {
   "cell_type": "markdown",
   "id": "f0351d79-5e3a-4096-b67b-ce8c72eb7404",
   "metadata": {},
   "source": [
    "#### Previously we used class for constructing a single Polygon given number of edges and a circum-radius. \n",
    "\n",
    "#### Then we extended it to a class to construct a sequence of polygons given the number of edges of the largest polygon in the sequence (and assumed sequence is a continuously monotonous integer sequence without any skips or steps).\n",
    "\n",
    "#### In this assignment, the Polygon sequence class is tweaked to work as an iterator. The class has to include special dunder methods -- `__iter__()` and `__next__()`. The `__iter__()` method returns the Polygon class instance i.e., it indicates that the iteration is taking place over specific class instance, and the `__next__()` defines what to return next when the iterator gets called. Exceptions are included to stop the iterator on one complete sweep over the sequence."
   ]
  },
  {
   "cell_type": "code",
   "execution_count": 1,
   "id": "f3eb378f-cfb6-4d41-8e17-4f8cbe5fd4ed",
   "metadata": {},
   "outputs": [],
   "source": [
    "import math"
   ]
  },
  {
   "cell_type": "code",
   "execution_count": 2,
   "id": "96801ad9-64a0-4c0a-91a7-59c6fa875d12",
   "metadata": {},
   "outputs": [],
   "source": [
    "# Regular Convex Polygon Object\n",
    "\n",
    "class Polygon:\n",
    "    '''\n",
    "    This Polygon takes 2 parameters -- number of edges (N) and circum-radius (R), and the related parameters\n",
    "    such as vertices, interior angle, edge length, apothem, area and perimeter are obtained using get methods.\n",
    "    Access to modify by name operator is available only for num_edges and circum_rad, and any such \n",
    "    modifications will reflect accordingly in the dependent parameters accessed by get_{attribute} methods.\n",
    "    '''\n",
    "    \n",
    "    def __init__(self, num_edges=3, circum_rad=6):\n",
    "        if not isinstance(num_edges, int):\n",
    "            raise TypeError(f'\"num_edges\" is an integer; TypeError')\n",
    "        if num_edges < 3:\n",
    "            raise ValueError(f'Polygon has a minimum of 3 edges; ValueError')\n",
    "        self.num_edges = num_edges\n",
    "        self.circum_rad = circum_rad\n",
    "\n",
    "    @property\n",
    "    def get_num_edges(self):\n",
    "        return self.num_edges\n",
    "\n",
    "    @property\n",
    "    def get_circum_rad(self):\n",
    "        return self.circum_rad\n",
    "\n",
    "    @property\n",
    "    def get_vertices(self):\n",
    "        return self.get_num_edges\n",
    "\n",
    "    @property\n",
    "    def get_int_angle(self):\n",
    "        return (self.get_num_edges - 2) * 180 / self.get_num_edges\n",
    "\n",
    "    @property\n",
    "    def get_edge_length(self):\n",
    "        return 2*self.get_circum_rad * math.sin(math.pi / self.get_num_edges)\n",
    "\n",
    "    @property\n",
    "    def get_apothem(self):\n",
    "        return self.get_circum_rad * math.cos(math.pi / self.get_num_edges)\n",
    "\n",
    "    @property\n",
    "    def get_area(self):\n",
    "        return self.get_num_edges * self.get_edge_length * self.get_apothem / 2\n",
    "\n",
    "    @property\n",
    "    def get_perimeter(self):\n",
    "        return self.get_num_edges * self.get_edge_length\n",
    "\n",
    "    def __repr__(self):\n",
    "        return f'Polygon(edges={self.get_num_edges}, rad={self.get_circum_rad})'\n",
    "\n",
    "    def __eq__(self, other):\n",
    "        if isinstance(other, self.__class__):\n",
    "            if self.get_vertices == other.get_vertices and self.get_circum_rad == other.get_circum_rad:\n",
    "                return True\n",
    "            else:\n",
    "                return False\n",
    "        else:\n",
    "            return print(f'Compare instances of same class: Right-side instance not a Polygon')\n",
    "\n",
    "    def __gt__(self, other):\n",
    "        if isinstance(other, self.__class__):\n",
    "            if self.get_vertices > other.get_vertices:\n",
    "                return True\n",
    "            else:\n",
    "                return False\n",
    "        else:\n",
    "            return print(f'Compare instances of same class: Right-side instance not a Polygon')"
   ]
  },
  {
   "cell_type": "code",
   "execution_count": 3,
   "id": "86ec7055-89b6-466a-9c05-3ea3eb334d86",
   "metadata": {},
   "outputs": [],
   "source": [
    "def test_polygon():\n",
    "    abs_tol = 0.001\n",
    "    rel_tol = 0.001\n",
    "    \n",
    "    try:\n",
    "        p = Polygon(2, 10)\n",
    "        assert False, ('Creating a Polygon with 2 sides: '\n",
    "                       ' Exception expected, not received')\n",
    "    except ValueError:\n",
    "        pass\n",
    "                       \n",
    "    n = 3\n",
    "    R = 1\n",
    "    p = Polygon(n, R)\n",
    "    assert str(p) == 'Polygon(edges=3, rad=1)', f'actual: {str(p)}'\n",
    "    assert p.get_vertices == n, (f'actual: {p.get_vertices},'\n",
    "                                   f' expected: {n}')\n",
    "    assert p.get_num_edges == n, f'actual: {p.get_num_edges}, expected: {n}'\n",
    "    assert p.get_circum_rad == R, f'actual: {p.get_circum_rad}, expected: {R}'\n",
    "    assert p.get_int_angle == 60, (f'actual: {p.get_int_angle},'\n",
    "                                    ' expected: 60')\n",
    "    n = 4\n",
    "    R = 1\n",
    "    p = Polygon(n, R)\n",
    "    assert p.get_int_angle == 90, (f'actual: {p.get_int_angle}, '\n",
    "                                    ' expected: 90')\n",
    "    assert math.isclose(p.get_area, 2, \n",
    "                        rel_tol=abs_tol, \n",
    "                        abs_tol=abs_tol), (f'actual: {p.get_area},'\n",
    "                                           ' expected: 2.0')\n",
    "    \n",
    "    assert math.isclose(p.get_edge_length, math.sqrt(2),\n",
    "                       rel_tol=rel_tol,\n",
    "                       abs_tol=abs_tol), (f'actual: {p.get_edge_length},'\n",
    "                                          f' expected: {math.sqrt(2)}')\n",
    "    \n",
    "    assert math.isclose(p.get_perimeter, 4 * math.sqrt(2),\n",
    "                       rel_tol=rel_tol,\n",
    "                       abs_tol=abs_tol), (f'actual: {p.get_perimeter},'\n",
    "                                          f' expected: {4 * math.sqrt(2)}')\n",
    "    \n",
    "    assert math.isclose(p.get_apothem, 0.707,\n",
    "                       rel_tol=rel_tol,\n",
    "                       abs_tol=abs_tol), (f'actual: {p.get_apothem},'\n",
    "                                          ' expected: 0.707')\n",
    "    p = Polygon(6, 2)\n",
    "    assert math.isclose(p.get_edge_length, 2,\n",
    "                        rel_tol=rel_tol, abs_tol=abs_tol)\n",
    "    assert math.isclose(p.get_apothem, 1.73205,\n",
    "                        rel_tol=rel_tol, abs_tol=abs_tol)\n",
    "    assert math.isclose(p.get_area, 10.3923,\n",
    "                        rel_tol=rel_tol, abs_tol=abs_tol)\n",
    "    assert math.isclose(p.get_perimeter, 12,\n",
    "                        rel_tol=rel_tol, abs_tol=abs_tol)\n",
    "    assert math.isclose(p.get_int_angle, 120,\n",
    "                        rel_tol=rel_tol, abs_tol=abs_tol)\n",
    "    \n",
    "    p = Polygon(12, 3)\n",
    "    assert math.isclose(p.get_edge_length, 1.55291,\n",
    "                        rel_tol=rel_tol, abs_tol=abs_tol)\n",
    "    assert math.isclose(p.get_apothem, 2.89778,\n",
    "                        rel_tol=rel_tol, abs_tol=abs_tol)\n",
    "    assert math.isclose(p.get_area, 27,\n",
    "                        rel_tol=rel_tol, abs_tol=abs_tol)\n",
    "    assert math.isclose(p.get_perimeter, 18.635,\n",
    "                        rel_tol=rel_tol, abs_tol=abs_tol)\n",
    "    assert math.isclose(p.get_int_angle, 150,\n",
    "                        rel_tol=rel_tol, abs_tol=abs_tol)\n",
    "    \n",
    "    p1 = Polygon(3, 10)\n",
    "    p2 = Polygon(10, 10)\n",
    "    p3 = Polygon(15, 10)\n",
    "    p4 = Polygon(15, 100)\n",
    "    p5 = Polygon(15, 100)\n",
    "    \n",
    "    assert p2 > p1\n",
    "    assert p2 < p3\n",
    "    assert p3 != p4\n",
    "    assert p1 != p4\n",
    "    assert p4 == p5"
   ]
  },
  {
   "cell_type": "code",
   "execution_count": 4,
   "id": "04356048-f1d5-4b6d-b6be-c68f5428f821",
   "metadata": {},
   "outputs": [],
   "source": [
    "test_polygon()"
   ]
  },
  {
   "cell_type": "markdown",
   "id": "1e153d36-0898-4e7f-a218-d5b990a11326",
   "metadata": {},
   "source": [
    "#### PolygonIterator creates a sequence of polygons given the number of edges/vertices of the largest polygon in the sequence.\n",
    "\n",
    "#### The methods `__iter__()` and `__next__()` are added to make this class an iterator. While `__iter__()` returns the self, the `__next__()` returns the next polygon in the sequence.\n",
    "\n",
    "#### Two methods, one using the Python's default `__next__()` special method, and another using custom method `goon()` performing the iterator logic, are included in the code. While the default `__next__()` can be simply called as next(class instance), the `goon()` is called as named operator just like any other function i.e., `class_instance.goon()`."
   ]
  },
  {
   "cell_type": "code",
   "execution_count": 5,
   "id": "958fda54-8002-404e-9394-6db8f9b18336",
   "metadata": {},
   "outputs": [],
   "source": [
    "class PolygonIterator:\n",
    "    '''\n",
    "    This class takes in number of vertices for the largest polygon in the sequence. Currently the sequence type is chosen as list,\n",
    "    but it can be changed later, if required. The SequencePolygon class also takes in a circum_radius and it is assumed to be common\n",
    "    for all of the polygons in the sequence.\n",
    "    '''\n",
    "    \n",
    "    def __init__(self, num_vertices=3, circum_rad=6):\n",
    "        if not isinstance(num_vertices, int):\n",
    "            raise TypeError(f'\"num_vertices\" is an integer; TypeError')\n",
    "        if num_vertices < 3:\n",
    "            raise ValueError(f'Polygon has a minimum of 3 vertices; ValueError')\n",
    "        \n",
    "        self._num_vertices = num_vertices\n",
    "        self._circum_rad = circum_rad\n",
    "        self._polygons = [Polygon(edges, self._circum_rad) for edges in range(3, self._num_vertices+1)]\n",
    "        self.__start = 0\n",
    "        \n",
    "    def __len__(self):\n",
    "        return self._num_vertices - 2\n",
    "    \n",
    "    def __repr__(self):\n",
    "        return f'PolygonIterator(iterable: edges={self._num_vertices}, fixed: rad={self._circum_rad})'\n",
    "    \n",
    "    def __iter__(self):\n",
    "        return self\n",
    "\n",
    "    def __next__(self):\n",
    "        try:\n",
    "            if self.__start >= (self._num_vertices - 2):\n",
    "                raise StopIteration\n",
    "        except StopIteration:\n",
    "            print(f'StopIteration: Iterator reached max_value.')\n",
    "            return f''\n",
    "        else:\n",
    "            current = self.__start\n",
    "            self.__start += 1\n",
    "            return self._polygons[current]\n",
    "        \n",
    "    def goon(self):\n",
    "        try:\n",
    "            if not self._polygons:\n",
    "                raise StopIteration\n",
    "        except StopIteration:\n",
    "            print(f'IndexError: Iterator reached max_value.')\n",
    "            return f''\n",
    "        else:\n",
    "            return self._polygons.pop(0)\n",
    "            \n",
    "    def __getitem__(self, index):\n",
    "        if index not in range(self._num_vertices - 2):\n",
    "            raise IndexError(f'Index out of range')\n",
    "        else:\n",
    "            return self._polygons[index]\n",
    "    \n",
    "    @property\n",
    "    def max_efficiency_polygon(self):\n",
    "        sorted_polygons = sorted(self._polygons, key=lambda p: p.get_area/p.get_perimeter, reverse=True)\n",
    "        return sorted_polygons[0]"
   ]
  },
  {
   "cell_type": "code",
   "execution_count": 6,
   "id": "43887974-96a3-40d6-a3fc-ad651d723aff",
   "metadata": {},
   "outputs": [],
   "source": [
    "s1 = PolygonIterator(7, 5)"
   ]
  },
  {
   "cell_type": "code",
   "execution_count": 7,
   "id": "276062a9-3815-42d1-937e-98474094ba4d",
   "metadata": {},
   "outputs": [
    {
     "name": "stdout",
     "output_type": "stream",
     "text": [
      "Polygon(edges=3, rad=5)\n",
      "Polygon(edges=4, rad=5)\n",
      "Polygon(edges=5, rad=5)\n"
     ]
    }
   ],
   "source": [
    "print(next(s1)) # 1st time\n",
    "print(next(s1))\n",
    "print(next(s1)) # 3rd"
   ]
  },
  {
   "cell_type": "code",
   "execution_count": 8,
   "id": "b65a36ad-2239-4a51-a3b1-f4380dddae63",
   "metadata": {},
   "outputs": [
    {
     "name": "stdout",
     "output_type": "stream",
     "text": [
      "Polygon(edges=6, rad=5)\n",
      "Polygon(edges=7, rad=5)\n"
     ]
    }
   ],
   "source": [
    "print(next(s1))\n",
    "print(next(s1)) # 5th -- one complete iteration over sequence of polygons."
   ]
  },
  {
   "cell_type": "code",
   "execution_count": 9,
   "id": "67cd8b8d-dc17-4997-9b39-b4476edc16d4",
   "metadata": {},
   "outputs": [
    {
     "name": "stdout",
     "output_type": "stream",
     "text": [
      "StopIteration: Iterator reached max_value.\n",
      "\n"
     ]
    }
   ],
   "source": [
    "# Expected a StopIteration Exception message here\n",
    "\n",
    "print(next(s1))"
   ]
  },
  {
   "cell_type": "code",
   "execution_count": 10,
   "id": "935ab2fa-c829-4d72-a271-9bca5d38be6e",
   "metadata": {},
   "outputs": [
    {
     "name": "stdout",
     "output_type": "stream",
     "text": [
      "StopIteration: Iterator reached max_value.\n",
      "\n"
     ]
    }
   ],
   "source": [
    "print(next(s1)) # expect the same message here after, unless object is re-instantiated."
   ]
  },
  {
   "cell_type": "markdown",
   "id": "f0368df9-498a-4c51-898c-8677aebeaa38",
   "metadata": {},
   "source": [
    "#### Similar results are expected with the method goon(). Since the polygon instance p1 is already exhausted, we re-instantiate or define another to check the iterator defined in this method."
   ]
  },
  {
   "cell_type": "code",
   "execution_count": 11,
   "id": "e5c096b1-5af9-4939-8fdd-0ffd97dd1db6",
   "metadata": {},
   "outputs": [
    {
     "name": "stdout",
     "output_type": "stream",
     "text": [
      "Polygon(edges=3, rad=5)\n",
      "Polygon(edges=4, rad=5)\n",
      "Polygon(edges=5, rad=5)\n"
     ]
    }
   ],
   "source": [
    "p1 = PolygonIterator(5, 5)\n",
    "\n",
    "# Since I reduced the num_edges of the largest polygon from 7 to 5, iterable is from 3 to 5.\n",
    "\n",
    "print(p1.goon())\n",
    "print(p1.goon())\n",
    "print(p1.goon())"
   ]
  },
  {
   "cell_type": "code",
   "execution_count": 12,
   "id": "4e39499f-5d02-4f30-b73d-9ec182c0cf46",
   "metadata": {},
   "outputs": [
    {
     "name": "stdout",
     "output_type": "stream",
     "text": [
      "IndexError: Iterator reached max_value.\n",
      "\n"
     ]
    }
   ],
   "source": [
    "print(p1.goon()) # exception message expected. "
   ]
  },
  {
   "cell_type": "markdown",
   "id": "5a758bd5-cd32-4db7-ba12-307248525080",
   "metadata": {},
   "source": [
    "In the above, the examples showed how an iterator worked ('lazy' execution). Here we use the iterable property to loop through the object."
   ]
  },
  {
   "cell_type": "code",
   "execution_count": 13,
   "id": "6f666264-21ff-4bc2-81d7-67fd8396b910",
   "metadata": {},
   "outputs": [
    {
     "name": "stdout",
     "output_type": "stream",
     "text": [
      "Polygon(edges=3, rad=5) has area_to_perimeter ratio of 1.25\n",
      "Polygon(edges=4, rad=5) has area_to_perimeter ratio of 1.768\n",
      "Polygon(edges=5, rad=5) has area_to_perimeter ratio of 2.023\n",
      "Polygon(edges=6, rad=5) has area_to_perimeter ratio of 2.165\n",
      "Polygon(edges=7, rad=5) has area_to_perimeter ratio of 2.252\n",
      "StopIteration: Iterator reached max_value.\n"
     ]
    }
   ],
   "source": [
    "s1 = PolygonIterator(7, 5)\n",
    "for item in s1:\n",
    "    if item:\n",
    "        print(f'{item} has area_to_perimeter ratio of {round(item.get_area/item.get_perimeter,3)}')\n",
    "    else:\n",
    "        break"
   ]
  },
  {
   "cell_type": "code",
   "execution_count": 14,
   "id": "e05616b4-c27d-4fd3-8d92-f1553354cd3c",
   "metadata": {},
   "outputs": [
    {
     "name": "stdout",
     "output_type": "stream",
     "text": [
      "Polygon(edges=3, rad=5)\n",
      "Polygon(edges=4, rad=5)\n",
      "Polygon(edges=5, rad=5)\n",
      "Polygon(edges=6, rad=5)\n",
      "Polygon(edges=7, rad=5)\n",
      "StopIteration: Iterator reached max_value.\n"
     ]
    }
   ],
   "source": [
    "# We can use the class instance as it is or with iter().\n",
    "\n",
    "s1 = PolygonIterator(7, 5)\n",
    "\n",
    "for item in iter(s1):\n",
    "    if item:\n",
    "        print(item)\n",
    "    else:\n",
    "        break"
   ]
  },
  {
   "cell_type": "code",
   "execution_count": 15,
   "id": "29d342a3-77f6-4904-b996-03a5908e6662",
   "metadata": {},
   "outputs": [],
   "source": [
    "# Test cases for the PolygonIterator\n",
    "\n",
    "def test_polygon_iterator():\n",
    "    abs_tol = 0.001\n",
    "    rel_tol = 0.001\n",
    "    \n",
    "    try:\n",
    "        p = PolygonIterator(2, 10)\n",
    "        assert False, ('Creating a Polygon with 2 sides: '\n",
    "                       ' Exception expected, not received')\n",
    "    except ValueError:\n",
    "        pass\n",
    "                       \n",
    "    n = 3\n",
    "    R = 1\n",
    "    p = PolygonIterator(n, R)\n",
    "    assert str(p) == 'PolygonIterator(iterable: edges=3, fixed: rad=1)', f'actual: {str(p)}'\n",
    "    assert len(p) == n-3+1, f'actual: {len(p)}'\n",
    "    try:\n",
    "        print(p[1])\n",
    "        assert False, ('Printing out of range item: '\n",
    "                       'IndexError exception expected, not received')\n",
    "    except IndexError:\n",
    "        pass\n",
    "    \n",
    "    # Now we are going to access individual Polygon using __getitem__() i.e., dictionary key-value of object\n",
    "    # if p is the PolygonIterator instance, p[0] denotes Polygon(3,R), p[1] = Polygon(4,R), etc. for any R.\n",
    "    \n",
    "    n = 4\n",
    "    R = 1\n",
    "    p = PolygonIterator(n, R)\n",
    "    assert p[1].get_int_angle == 90, (f'actual: {p[1].get_int_angle}, '\n",
    "                                    ' expected: 90')\n",
    "    assert math.isclose(p[1].get_area, 2, \n",
    "                        rel_tol=abs_tol, \n",
    "                        abs_tol=abs_tol), (f'actual: {p[1].get_area},'\n",
    "                                           ' expected: 2.0')\n",
    "    \n",
    "    assert math.isclose(p[1].get_edge_length, math.sqrt(2),\n",
    "                       rel_tol=rel_tol,\n",
    "                       abs_tol=abs_tol), (f'actual: {p[1].get_edge_length},'\n",
    "                                          f' expected: {math.sqrt(2)}')\n",
    "    \n",
    "    assert math.isclose(p[1].get_perimeter, 4 * math.sqrt(2),\n",
    "                       rel_tol=rel_tol,\n",
    "                       abs_tol=abs_tol), (f'actual: {p[1].get_perimeter},'\n",
    "                                          f' expected: {4 * math.sqrt(2)}')\n",
    "    \n",
    "    assert math.isclose(p[1].get_apothem, 0.707,\n",
    "                       rel_tol=rel_tol,\n",
    "                       abs_tol=abs_tol), (f'actual: {p[1].get_apothem},'\n",
    "                                          ' expected: 0.707')\n",
    "    p = PolygonIterator(6, 2)\n",
    "    assert math.isclose(p[3].get_edge_length, 2,\n",
    "                        rel_tol=rel_tol, abs_tol=abs_tol)\n",
    "    assert math.isclose(p[3].get_apothem, 1.73205,\n",
    "                        rel_tol=rel_tol, abs_tol=abs_tol)\n",
    "    assert math.isclose(p[3].get_area, 10.3923,\n",
    "                        rel_tol=rel_tol, abs_tol=abs_tol)\n",
    "    assert math.isclose(p[3].get_perimeter, 12,\n",
    "                        rel_tol=rel_tol, abs_tol=abs_tol)\n",
    "    assert math.isclose(p[3].get_int_angle, 120,\n",
    "                        rel_tol=rel_tol, abs_tol=abs_tol)\n",
    "    \n",
    "    p = PolygonIterator(12, 3)\n",
    "    assert math.isclose(p[9].get_edge_length, 1.55291,\n",
    "                        rel_tol=rel_tol, abs_tol=abs_tol)\n",
    "    assert math.isclose(p[9].get_apothem, 2.89778,\n",
    "                        rel_tol=rel_tol, abs_tol=abs_tol)\n",
    "    assert math.isclose(p[9].get_area, 27,\n",
    "                        rel_tol=rel_tol, abs_tol=abs_tol)\n",
    "    assert math.isclose(p[9].get_perimeter, 18.635,\n",
    "                        rel_tol=rel_tol, abs_tol=abs_tol)\n",
    "    assert math.isclose(p[9].get_int_angle, 150,\n",
    "                        rel_tol=rel_tol, abs_tol=abs_tol)\n",
    "    \n",
    "    p1 = PolygonIterator(3, 10)\n",
    "    p2 = PolygonIterator(10, 10)\n",
    "    p3 = PolygonIterator(15, 10)\n",
    "    p4 = PolygonIterator(15, 100)\n",
    "    p5 = PolygonIterator(15, 100)\n",
    "    \n",
    "    assert all([p2[i] > p1[0] for i in range(1, 8)])\n",
    "    assert all([p2[7] < p3[i] for i in range(8, 13)])\n",
    "    assert all([p3[i] != p4[i] for i in range(13)])\n",
    "    assert p1[0] != p4[0]\n",
    "    assert all([p4[i] == p5[i] for i in range(13)])"
   ]
  },
  {
   "cell_type": "code",
   "execution_count": null,
   "id": "bbf5574c-3293-47df-a9c8-1362757de829",
   "metadata": {},
   "outputs": [],
   "source": []
  },
  {
   "cell_type": "markdown",
   "id": "bbb3b50a-2bef-4c0f-8801-afce116f0ffe",
   "metadata": {},
   "source": [
    "#### I am trying to use the superclass definition here, but not able to complete. "
   ]
  },
  {
   "cell_type": "code",
   "execution_count": 16,
   "id": "83d43fba-cea6-4ae9-8502-99419f1b4659",
   "metadata": {},
   "outputs": [],
   "source": [
    "class Polygons(Polygon):\n",
    "    \n",
    "    def __init__(self, num_vertices=4, circum_rad=5):\n",
    "        # super().__init__(num_edges=3, circum_rad=circum_rad)\n",
    "        self._num_vertices = num_vertices\n",
    "        self._circum_rad = circum_rad\n",
    "        self.__start = 3\n",
    "        \n",
    "    def __call__(self, num_edges):\n",
    "        return super().__init__(num_edges=self.__start, circum_rad=self.__circum_rad)\n",
    "        \n",
    "    @property\n",
    "    def __iter__(self):\n",
    "        return self\n",
    "    \n",
    "    @property\n",
    "    def __next__(self):\n",
    "        if self.__start < self._num_vertices:\n",
    "            num_edges = self.__start\n",
    "            self.__start += 1\n",
    "            return self(num_edges)\n",
    "        else:\n",
    "            raise StopIteration(f'Iterator reached max_value: StopIteration')\n",
    "            \n",
    "    @property\n",
    "    def __len__(self):\n",
    "        return self._num_vertices - 2      "
   ]
  }
 ],
 "metadata": {
  "kernelspec": {
   "display_name": "Python 3",
   "language": "python",
   "name": "python3"
  },
  "language_info": {
   "codemirror_mode": {
    "name": "ipython",
    "version": 3
   },
   "file_extension": ".py",
   "mimetype": "text/x-python",
   "name": "python",
   "nbconvert_exporter": "python",
   "pygments_lexer": "ipython3",
   "version": "3.7.7"
  }
 },
 "nbformat": 4,
 "nbformat_minor": 5
}
